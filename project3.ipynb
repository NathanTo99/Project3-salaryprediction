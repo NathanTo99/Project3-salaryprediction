{
 "cells": [
  {
   "cell_type": "markdown",
   "id": "299ca16d-73d1-467a-b376-8249522bfb53",
   "metadata": {},
   "source": [
    "# Project 3: Predicting Salary Using Regression\n",
    "by Nathan To\n",
    "## Introduction\n",
    "This project uses the Salary Prediction Data from Kaggle.  \n",
    "The goal is to predict a person’s salary based on features like experience, education, age, job title, and more.  \n",
    "By training regression models, we can understand how these factors affect salary.  \n",
    "We’ll start with a simple model and slowly add more features to see how the results change.\n"
   ]
  },
  {
   "cell_type": "markdown",
   "id": "66066e65-85d7-4c71-86ed-e1ded4d8ed6e",
   "metadata": {},
   "source": [
    "## What is Regression?\n",
    "Regression is a way to predict a number value, such as salary, based on other data.  \n",
    "It finds a line or curve that best fits the relationship between the inputs (like experience or age) and the output (salary).\n",
    "\n",
    "### Linear Regression\n",
    "Linear regression fits a straight line using this formula:\n",
    "\n",
    "\\[\n",
    "y = β_0 + β_1x_1 + β_2x_2 + … + β_nx_n + ε\n",
    "\\]\n",
    "\n",
    "Here:\n",
    "- **y** = predicted salary  \n",
    "- **x₁, x₂, …** = features like experience or age  \n",
    "- **β** = weights found by the model  \n",
    "- **ε** = small error term  \n",
    "\n",
    "The goal is to find the line that gives the smallest total error."
   ]
  },
  {
   "cell_type": "markdown",
   "id": "696813b4-ede7-430e-b684-166d120557ad",
   "metadata": {},
   "source": [
    "## Importing Libraries\n",
    "In this section, I imported all the Python libraries I need for data analysis and regression modeling.  \n",
    "These libraries help with data handling, graphing, and building prediction models.\n"
   ]
  },
  {
   "cell_type": "code",
   "execution_count": 14,
   "id": "c1b406ba-c3fd-4617-9dc9-bd9f482f01ae",
   "metadata": {},
   "outputs": [
    {
     "data": {
      "text/html": [
       "<div>\n",
       "<style scoped>\n",
       "    .dataframe tbody tr th:only-of-type {\n",
       "        vertical-align: middle;\n",
       "    }\n",
       "\n",
       "    .dataframe tbody tr th {\n",
       "        vertical-align: top;\n",
       "    }\n",
       "\n",
       "    .dataframe thead th {\n",
       "        text-align: right;\n",
       "    }\n",
       "</style>\n",
       "<table border=\"1\" class=\"dataframe\">\n",
       "  <thead>\n",
       "    <tr style=\"text-align: right;\">\n",
       "      <th></th>\n",
       "      <th>Education</th>\n",
       "      <th>Experience</th>\n",
       "      <th>Location</th>\n",
       "      <th>Job_Title</th>\n",
       "      <th>Age</th>\n",
       "      <th>Gender</th>\n",
       "      <th>Salary</th>\n",
       "    </tr>\n",
       "  </thead>\n",
       "  <tbody>\n",
       "    <tr>\n",
       "      <th>0</th>\n",
       "      <td>High School</td>\n",
       "      <td>8</td>\n",
       "      <td>Urban</td>\n",
       "      <td>Manager</td>\n",
       "      <td>63</td>\n",
       "      <td>Male</td>\n",
       "      <td>84620.053665</td>\n",
       "    </tr>\n",
       "    <tr>\n",
       "      <th>1</th>\n",
       "      <td>PhD</td>\n",
       "      <td>11</td>\n",
       "      <td>Suburban</td>\n",
       "      <td>Director</td>\n",
       "      <td>59</td>\n",
       "      <td>Male</td>\n",
       "      <td>142591.255894</td>\n",
       "    </tr>\n",
       "    <tr>\n",
       "      <th>2</th>\n",
       "      <td>Bachelor</td>\n",
       "      <td>28</td>\n",
       "      <td>Suburban</td>\n",
       "      <td>Manager</td>\n",
       "      <td>61</td>\n",
       "      <td>Female</td>\n",
       "      <td>97800.255404</td>\n",
       "    </tr>\n",
       "    <tr>\n",
       "      <th>3</th>\n",
       "      <td>High School</td>\n",
       "      <td>29</td>\n",
       "      <td>Rural</td>\n",
       "      <td>Director</td>\n",
       "      <td>45</td>\n",
       "      <td>Male</td>\n",
       "      <td>96834.671282</td>\n",
       "    </tr>\n",
       "    <tr>\n",
       "      <th>4</th>\n",
       "      <td>PhD</td>\n",
       "      <td>25</td>\n",
       "      <td>Urban</td>\n",
       "      <td>Analyst</td>\n",
       "      <td>26</td>\n",
       "      <td>Female</td>\n",
       "      <td>132157.786175</td>\n",
       "    </tr>\n",
       "  </tbody>\n",
       "</table>\n",
       "</div>"
      ],
      "text/plain": [
       "     Education  Experience  Location Job_Title  Age  Gender         Salary\n",
       "0  High School           8     Urban   Manager   63    Male   84620.053665\n",
       "1          PhD          11  Suburban  Director   59    Male  142591.255894\n",
       "2     Bachelor          28  Suburban   Manager   61  Female   97800.255404\n",
       "3  High School          29     Rural  Director   45    Male   96834.671282\n",
       "4          PhD          25     Urban   Analyst   26  Female  132157.786175"
      ]
     },
     "execution_count": 14,
     "metadata": {},
     "output_type": "execute_result"
    }
   ],
   "source": [
    "import pandas as pd\n",
    "import numpy as np\n",
    "import matplotlib.pyplot as plt\n",
    "import seaborn as sns\n",
    "from sklearn.model_selection import train_test_split\n",
    "from sklearn.linear_model import LinearRegression, Ridge\n",
    "from sklearn.preprocessing import PolynomialFeatures\n",
    "from sklearn.metrics import mean_squared_error\n",
    "\n",
    "# Load dataset\n",
    "df = pd.read_csv(\"Salary_Data.csv\")  # use your file name\n",
    "df.head()"
   ]
  },
  {
   "cell_type": "markdown",
   "id": "63d8a217-dd42-4fb1-b391-c8588cb005fd",
   "metadata": {},
   "source": [
    "## Experiment 1: Data Understanding\n",
    "Before training any models, we look at the data to understand what it shows.\n",
    "We’ll check column names, data types, missing values, and how numeric features relate to salary."
   ]
  },
  {
   "cell_type": "code",
   "execution_count": 15,
   "id": "9257657b-ee07-48ff-810f-b0df9260ddc6",
   "metadata": {},
   "outputs": [
    {
     "name": "stdout",
     "output_type": "stream",
     "text": [
      "<class 'pandas.core.frame.DataFrame'>\n",
      "RangeIndex: 1000 entries, 0 to 999\n",
      "Data columns (total 7 columns):\n",
      " #   Column      Non-Null Count  Dtype  \n",
      "---  ------      --------------  -----  \n",
      " 0   Education   1000 non-null   object \n",
      " 1   Experience  1000 non-null   int64  \n",
      " 2   Location    1000 non-null   object \n",
      " 3   Job_Title   1000 non-null   object \n",
      " 4   Age         1000 non-null   int64  \n",
      " 5   Gender      1000 non-null   object \n",
      " 6   Salary      1000 non-null   float64\n",
      "dtypes: float64(1), int64(2), object(4)\n",
      "memory usage: 54.8+ KB\n",
      "Education     0\n",
      "Experience    0\n",
      "Location      0\n",
      "Job_Title     0\n",
      "Age           0\n",
      "Gender        0\n",
      "Salary        0\n",
      "dtype: int64\n",
      "Salary        1.000000\n",
      "Experience    0.341918\n",
      "Age          -0.053174\n",
      "Name: Salary, dtype: float64\n"
     ]
    },
    {
     "data": {
      "image/png": "[encoded data removed]",
      "text/plain": [
       "<Figure size 600x500 with 2 Axes>"
      ]
     },
     "metadata": {},
     "output_type": "display_data"
    }
   ],
   "source": [
    "df.info()\n",
    "df.describe()\n",
    "\n",
    "# check missing values\n",
    "print(df.isnull().sum())\n",
    "\n",
    "# look at numeric correlations\n",
    "corr = df.corr(numeric_only=True)\n",
    "print(corr[\"Salary\"].sort_values(ascending=False))\n",
    "\n",
    "# small heatmap\n",
    "plt.figure(figsize=(6,5))\n",
    "sns.heatmap(df[[\"Experience\",\"Age\",\"Salary\"]].corr(), annot=True, cmap=\"coolwarm\")\n",
    "plt.title(\"Numeric Features Correlation Matrix\")\n",
    "plt.show()\n"
   ]
  },
  {
   "cell_type": "markdown",
   "id": "65bf7e26-4526-449a-b363-bc0b09ff2a91",
   "metadata": {},
   "source": [
    "## Experiment 1: Model with Experience Only\n",
    "For the first test, I only used the **Experience** column to predict salary.  \n",
    "Experience had the highest correlation with salary, so this model checks how well that one feature works by itself.\n"
   ]
  },
  {
   "cell_type": "code",
   "execution_count": 16,
   "id": "136e72c2-6357-4e38-97ae-10f027e9daa3",
   "metadata": {},
   "outputs": [
    {
     "name": "stdout",
     "output_type": "stream",
     "text": [
      "Experiment 1 RMSE: 25996.12572496619\n"
     ]
    }
   ],
   "source": [
    "X1 = df[[\"Experience\"]]\n",
    "y1 = df[\"Salary\"]\n",
    "\n",
    "X_train1, X_test1, y_train1, y_test1 = train_test_split(X1, y1, test_size=0.2, random_state=42)\n",
    "\n",
    "model1 = LinearRegression()\n",
    "model1.fit(X_train1, y_train1)\n",
    "\n",
    "y_pred1 = model1.predict(X_test1)\n",
    "rmse1 = np.sqrt(mean_squared_error(y_test1, y_pred1))\n",
    "print(\"Experiment 1 RMSE:\", rmse1)\n"
   ]
  },
  {
   "cell_type": "markdown",
   "id": "a6ea8c1c-42c4-4e28-8374-ba74fc2c8ecb",
   "metadata": {},
   "source": [
    "## Experiment 2: More Features\n",
    "Now I added more features — **Education**, **Job_Title**, and **Age** — because they might also affect salary.  \n",
    "I changed the text columns (Education and Job_Title) into numbers using one-hot encoding.  \n",
    "I also used the log of Salary to make the data smoother.  \n",
    "Then I trained a new linear regression model and checked the new RMSE.\n"
   ]
  },
  {
   "cell_type": "code",
   "execution_count": 17,
   "id": "857b5cbf-fca7-45a5-b2b9-b4b8747ba552",
   "metadata": {},
   "outputs": [
    {
     "name": "stdout",
     "output_type": "stream",
     "text": [
      "Experiment 2 RMSE: 0.1198705910786803\n"
     ]
    }
   ],
   "source": [
    "# one-hot encode text columns\n",
    "df_encoded = pd.get_dummies(df, columns=[\"Education\", \"Job_Title\"], drop_first=True)\n",
    "\n",
    "# choose features\n",
    "features2 = [\"Experience\", \"Age\"] + [col for col in df_encoded.columns if \"Education_\" in col or \"Job_Title_\" in col]\n",
    "X2 = df_encoded[features2]\n",
    "y2 = np.log1p(df_encoded[\"Salary\"])\n",
    "\n",
    "# split and train\n",
    "X_train2, X_test2, y_train2, y_test2 = train_test_split(X2, y2, test_size=0.2, random_state=42)\n",
    "model2 = LinearRegression()\n",
    "model2.fit(X_train2, y_train2)\n",
    "\n",
    "y_pred2 = model2.predict(X_test2)\n",
    "rmse2 = np.sqrt(mean_squared_error(y_test2, y_pred2))\n",
    "print(\"Experiment 2 RMSE:\", rmse2)\n"
   ]
  },
  {
   "cell_type": "markdown",
   "id": "7c57b84f-6fff-4c1c-b0ad-ba472c01462a",
   "metadata": {},
   "source": [
    "## Experiment 3: Polynomial + Ridge\n",
    "I kept the same features from Experiment 2 but made new ones by combining them (polynomial features).  \n",
    "This helps the model learn curved or more complex patterns.  \n",
    "To stop overfitting, I used **Ridge Regression**, which keeps the model balanced.  \n",
    "Then I compared the new RMSE to see if performance improved.\n"
   ]
  },
  {
   "cell_type": "code",
   "execution_count": 18,
   "id": "8555b3cc-b9ee-4fd5-bd79-4aa16247ec7c",
   "metadata": {},
   "outputs": [
    {
     "name": "stdout",
     "output_type": "stream",
     "text": [
      "Experiment 3 RMSE: 0.11572293560427128\n"
     ]
    }
   ],
   "source": [
    "poly = PolynomialFeatures(degree=2, include_bias=False)\n",
    "X_poly = poly.fit_transform(X2)\n",
    "\n",
    "X_train3, X_test3, y_train3, y_test3 = train_test_split(X_poly, y2, test_size=0.2, random_state=42)\n",
    "model3 = Ridge(alpha=1.0)\n",
    "model3.fit(X_train3, y_train3)\n",
    "\n",
    "y_pred3 = model3.predict(X_test3)\n",
    "rmse3 = np.sqrt(mean_squared_error(y_test3, y_pred3))\n",
    "print(\"Experiment 3 RMSE:\", rmse3)\n"
   ]
  },
  {
   "cell_type": "markdown",
   "id": "96cdd62a-b4bd-4930-90d0-269dc69f5cbd",
   "metadata": {},
   "source": [
    "## Results, Impact, and Conclusion\n",
    "\n",
    "After running all three experiments, I saw that using more features helped improve the model.  \n",
    "The first model with only experience was okay, but adding age, education, and job title made it predict better.  \n",
    "The last model with Ridge regression and polynomial features worked the best overall because it handled more patterns in the data.\n",
    "\n",
    "This kind of model can be helpful for companies or job seekers to understand what factors affect pay.  \n",
    "But it’s also important to use it carefully, since data like job titles or education can include bias.\n",
    "\n",
    "From this project, I learned how regression can be used to make predictions, and how cleaning data and adding the right features can make a big difference.  \n",
    "Each experiment showed how small changes can improve accuracy and help find patterns that weren’t clear before.\n"
   ]
  },
  {
   "cell_type": "markdown",
   "id": "1f32acbe-3177-4d22-ad33-cdbb7d1e242f",
   "metadata": {},
   "source": [
    "## References\n",
    "- Kaggle: Salary Prediction Data (https://www.kaggle.com/datasets/mrsimple07/salary-prediction-data)\n",
    "- Scikit-learn Documentation: LinearRegression, PolynomialFeatures, Ridge\n",
    "- Python Data Science Handbook by Jake VanderPlas\n"
   ]
  }
 ],
 "metadata": {
  "kernelspec": {
   "display_name": "Python [conda env:DataMining]",
   "language": "python",
   "name": "conda-env-DataMining-py"
  },
  "language_info": {
   "codemirror_mode": {
    "name": "ipython",
    "version": 3
   },
   "file_extension": ".py",
   "mimetype": "text/x-python",
   "name": "python",
   "nbconvert_exporter": "python",
   "pygments_lexer": "ipython3",
   "version": "3.12.11"
  }
 },
 "nbformat": 4,
 "nbformat_minor": 5
}
